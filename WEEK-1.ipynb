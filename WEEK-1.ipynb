{
 "cells": [
  {
   "cell_type": "markdown",
   "metadata": {},
   "source": [
    "1470. Shuffle the Array\n",
    "Given the array nums consisting of 2n elements in the form [x1,x2,...,xn,y1,y2,...,yn].\n",
    "\n",
    "Return the array in the form [x1,y1,x2,y2,...,xn,yn]."
   ]
  },
  {
   "cell_type": "code",
   "execution_count": 2,
   "metadata": {},
   "outputs": [],
   "source": [
    "class Solution:\n",
    "    def shuffle(self, nums, n):\n",
    "        l1 = nums[:n]\n",
    "        l2 = nums[n:]\n",
    "        result = [0] * (2 * n) \n",
    "        \n",
    "        for i in range(n):\n",
    "            result[2 * i] = l1[i] \n",
    "            result[2 * i + 1] = l2[i]  \n",
    "\n",
    "        return result \n",
    "\n",
    "#Problem description\n",
    "\n",
    "#Given an array of 2n elements in the form [x1, x2, ..., xn, y1, y2, ..., yn],\n",
    "#shuffle the elements to create a new array in the form [x1, y1, x2, y2, ..., xn, yn].\n",
    " \n",
    "#Solution\n",
    "\n",
    "#1. Split the input array into two halves, 'l1' and 'l2', where 'l1' contains the first n elements\n",
    "#[x1, x2, ..., xn], and 'l2' contains the remaining n elements [y1, y2, ..., yn].\\n\"\n",
    "#2. Initialize a new array 'result' of size 2n, filled with zeros to store the shuffled elements.\n",
    "#3. Iterate through a range from 0 to n (exclusive):\\n\"\n",
    "#    - Place elements from 'l1' at even indices in 'result' (result[0], result[2], result[4], ...).\n",
    "#   - Place elements from 'l2' at odd indices in 'result' (result[1], result[3], result[5], ...).\n",
    "# \"4. Return the shuffled 'result' array as the output."
   ]
  }
 ],
 "metadata": {
  "kernelspec": {
   "display_name": "Python 3",
   "language": "python",
   "name": "python3"
  },
  "language_info": {
   "codemirror_mode": {
    "name": "ipython",
    "version": 3
   },
   "file_extension": ".py",
   "mimetype": "text/x-python",
   "name": "python",
   "nbconvert_exporter": "python",
   "pygments_lexer": "ipython3",
   "version": "3.11.4"
  },
  "orig_nbformat": 4
 },
 "nbformat": 4,
 "nbformat_minor": 2
}
