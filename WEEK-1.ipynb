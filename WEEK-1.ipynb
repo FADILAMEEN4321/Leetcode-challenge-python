{
 "cells": [
  {
   "cell_type": "markdown",
   "metadata": {},
   "source": [
    "1470. **Shuffle the Array:**\n",
    "Given the array nums consisting of 2n elements in the form [x1,x2,...,xn,y1,y2,...,yn].\n",
    "\n",
    "Return the array in the form [x1,y1,x2,y2,...,xn,yn]."
   ]
  },
  {
   "cell_type": "code",
   "execution_count": 2,
   "metadata": {},
   "outputs": [],
   "source": [
    "class Solution:\n",
    "    def shuffle(self, nums, n):\n",
    "        l1 = nums[:n]\n",
    "        l2 = nums[n:]\n",
    "        result = [0] * (2 * n) \n",
    "        \n",
    "        for i in range(n):\n",
    "            result[2 * i] = l1[i] \n",
    "            result[2 * i + 1] = l2[i]  \n",
    "\n",
    "        return result \n",
    "\n",
    "#Problem description\n",
    "\n",
    "#Given an array of 2n elements in the form [x1, x2, ..., xn, y1, y2, ..., yn],\n",
    "#shuffle the elements to create a new array in the form [x1, y1, x2, y2, ..., xn, yn].\n",
    " \n",
    "#Solution\n",
    "\n",
    "#1. Split the input array into two halves, 'l1' and 'l2', where 'l1' contains the first n elements\n",
    "#[x1, x2, ..., xn], and 'l2' contains the remaining n elements [y1, y2, ..., yn].\\n\"\n",
    "#2. Initialize a new array 'result' of size 2n, filled with zeros to store the shuffled elements.\n",
    "#3. Iterate through a range from 0 to n (exclusive):\\n\"\n",
    "#    - Place elements from 'l1' at even indices in 'result' (result[0], result[2], result[4], ...).\n",
    "#   - Place elements from 'l2' at odd indices in 'result' (result[1], result[3], result[5], ...).\n",
    "# \"4. Return the shuffled 'result' array as the output."
   ]
  },
  {
   "cell_type": "markdown",
   "metadata": {},
   "source": [
    "1486. **XOR Operation in an Array:**\n",
    "You are given an integer n and an integer start.\n",
    "Define an array nums where nums[i] = start + 2 * i (0-indexed) and n == nums.length.\n",
    "Return the bitwise XOR of all elements of nums."
   ]
  },
  {
   "cell_type": "code",
   "execution_count": null,
   "metadata": {},
   "outputs": [],
   "source": [
    "class Solution:\n",
    "    def xorOperation(self, n: int, start: int) -> int:\n",
    "        result = 0 \n",
    "        for i in range(n):\n",
    "            nums_i = start + 2 * i\n",
    "            result ^= nums_i  # Perform the XOR operation with the result\n",
    "\n",
    "        return result \n",
    "    \n",
    "#Problem Description:\n",
    "# You are given an integer n and an integer start. \n",
    "# You need to define an array nums where nums[i] = start + 2 * i for i in the range [0, n-1]. \n",
    "# Then, you are required to return the bitwise XOR of all elements of nums.\n",
    "# \n",
    "# Solution Explanation:\n",
    "# 1. Initialize the result variable to 0. This variable will store the final bitwise XOR result.\n",
    "\n",
    "# 2. Use a for loop to iterate through the numbers from 0 to n-1. In each iteration, calculate the i-th \n",
    "# element of nums using the formula nums_i = start + 2 * i. This formula generates the elements of the \n",
    "# nums array based on the given start and n.\n",
    "\n",
    "# 3. In each iteration, perform the bitwise XOR operation between the current value of result and nums_i\n",
    "#  and update the result variable. This accumulates the XOR of all elements in the nums array.\n",
    "\n",
    "# 4. After the loop completes, the result variable will contain the bitwise XOR of all elements of the \n",
    "# nums array.\n",
    "\n",
    "# 5. Finally, return the result as the output of the function. \n"
   ]
  },
  {
   "cell_type": "markdown",
   "metadata": {},
   "source": [
    "1502. **Can Make Arithmetic Progression From Sequence:**\n",
    "A sequence of numbers is called an arithmetic progression if the difference between any two consecutive elements is the same.\n",
    "\n",
    "Given an array of numbers arr, return true if the array can be rearranged to form an arithmetic progression. Otherwise, return false."
   ]
  },
  {
   "cell_type": "code",
   "execution_count": null,
   "metadata": {},
   "outputs": [],
   "source": [
    "class Solution:\n",
    "    def canMakeArithmeticProgression(self, arr):\n",
    "        arr.sort()\n",
    "        d = arr[1] - arr[0]\n",
    "        \n",
    "        for i in range(1, len(arr)):\n",
    "            if arr[i] - arr[i-1] != d:\n",
    "                return False\n",
    "        \n",
    "        return True \n",
    "\n",
    "#Problem Description:\n",
    "#You are given an array of numbers arr, and you need to determine if it can be rearranged to form an \n",
    "# arithmetic progression. An arithmetic progression is a sequence of numbers where the difference \n",
    "# between any two consecutive elements is the same.\n",
    "\n",
    "\n",
    "#Solution Explanation:\n",
    "#1. Start by sorting the input array arr in ascending order using the sort() method. \n",
    "#   This is done to make it easier to check for the arithmetic progression condition, \n",
    "#   as it ensures that elements with a common difference are adjacent in the sorted array.\n",
    "\n",
    "#2. Calculate the common difference d between the first two elements of the sorted array arr.\n",
    "#   The common difference is simply the difference between arr[1] and arr[0].\n",
    "\n",
    "#3. Next, iterate through the sorted array arr starting from the second element (index 1) using a for loop.\n",
    "#   In each iteration, compare the difference between the current element arr[i] and the previous element \n",
    "#   arr[i-1] with the previously calculated common difference d.\n",
    "\n",
    "#4. If the difference between consecutive elements is not equal to the common difference d, \n",
    "# return False immediately. This means that the array cannot form an arithmetic progression.\n",
    "\n",
    "#5. If the loop completes without finding any inconsistencies in the differences between consecutive \n",
    "# elements, return True. This indicates that the input array can be rearranged to form an arithmetic \n",
    "# progression.\n",
    "    "
   ]
  },
  {
   "cell_type": "markdown",
   "metadata": {},
   "source": [
    "283. **Move Zeroes:**\n",
    "Given an integer array nums, move all 0's to the end of it while maintaining the relative order of the non-zero elements.\n",
    "\n",
    "Note that you must do this in-place without making a copy of the array."
   ]
  },
  {
   "cell_type": "code",
   "execution_count": null,
   "metadata": {},
   "outputs": [],
   "source": [
    "class Solution:\n",
    "    def moveZeroes(self, nums):\n",
    "        i = 0 # Initialize a pointer i to keep track of non-zero elements\n",
    "        for j in range(len(nums)):\n",
    "            # If the element at nums[i] is 0 and the element at nums[j] is non-zero,\n",
    "            # swap the elements to move the non-zero element to the current position of i.\n",
    "            if nums[i]==0 and nums[j]!=0:\n",
    "                nums[i],nums[j]=nums[j],nums[i]\n",
    "            if nums[i]!=0:\n",
    "                i+=1 # Increment i to move to the next non-zero element\n",
    "        # After the loop, all non-zero elements will be moved to the front of the array,\n",
    "        # and all zeros will be at the end. The relative order of non-zero elements is maintained.        \n",
    "\n",
    "#Problem Description:\n",
    "#You are given an integer array nums, and the task is to move all the zeros in the \n",
    "# array to the end while keeping the relative order of the non-zero elements unchanged.\n",
    "# This operation should be done in-place, meaning you should modify the original nums array without\n",
    "# creating a new one.\n",
    "\n",
    "#Solution Explanation:\n",
    "# 1. Initialize a pointer i to keep track of the position where the next non-zero element \n",
    "# should be placed.\n",
    "\n",
    "# 2. Iterate through the entire array using a for loop with the index j. \n",
    "# The variable j represents the current position in the array.\n",
    "\n",
    "# 3. Inside the loop, there are two main conditions:\n",
    "      #a. If the element at nums[i] is 0 (i.e., the current position i contains a zero), \n",
    "      # and the element at nums[j] is not zero, it means we have found a non-zero element that \n",
    "      # should be moved to the position of the zero. In this case, we swap the elements at \n",
    "      # positions i and j, effectively moving the non-zero element to the position i.\n",
    "\n",
    "      #b. If the element at nums[i] is not zero, we increment the i pointer. This step ensures \n",
    "      # that i always points to the next available position for a non-zero element.\n",
    "\n",
    "# 4. After the loop completes, all non-zero elements will be moved to the front of the array,\n",
    "#  and all zeros will be at the end. The relative order of non-zero elements is maintained as required.\n",
    "\n",
    "\n"
   ]
  },
  {
   "cell_type": "markdown",
   "metadata": {},
   "source": [
    "1523. **Count Odd Numbers in an Interval Range:**\n",
    "Given two non-negative integers low and high. Return the count of odd numbers between low and high (inclusive)."
   ]
  },
  {
   "cell_type": "code",
   "execution_count": 1,
   "metadata": {},
   "outputs": [],
   "source": [
    "class Solution:\n",
    "    def countOdds(self, low: int, high: int) -> int:\n",
    "        # If 'low' is even, increment it by 1 to make it odd.\n",
    "        if low % 2 == 0:\n",
    "            low += 1\n",
    "        # If 'high' is even, decrement it by 1 to make it odd.\n",
    "        if high % 2 == 0:\n",
    "            high -= 1\n",
    "        # Calculate the count of odd numbers between 'low' and 'high' (inclusive).\n",
    "        # Dividing the range by 2 and adding 1 gives us the count of odd numbers.\n",
    "        return (high - low) // 2 + 1\n",
    "\n",
    "# Problem Description:\n",
    "#   You are given two non-negative integers, low and high. Your task is to count the number of \n",
    "#   odd integers within the inclusive range from low to high. \n",
    "# \n",
    "# Solution Explanation:\n",
    "# 1. Initialize two variables, low and high, which represent the lower and upper bounds of the given range.\n",
    "# 2.Check if low is even by using the modulo operator %. If it's even, increment it by 1. \n",
    "#   This ensures that low becomes an odd number.\n",
    "# 3. Check if high is even in a similar manner. If it's even, decrement it by 1 to make it an odd number.\n",
    "# 4. Now that both low and high are guaranteed to be odd, you can calculate the count of odd numbers\n",
    "#    within the range. To do this, subtract low from high to find the range's length, and then divide\n",
    "#    it by 2. Adding 1 ensures that you count the endpoints as well.\n",
    "# 5. Return the count as the output of the function."
   ]
  }
 ],
 "metadata": {
  "kernelspec": {
   "display_name": "Python 3",
   "language": "python",
   "name": "python3"
  },
  "language_info": {
   "codemirror_mode": {
    "name": "ipython",
    "version": 3
   },
   "file_extension": ".py",
   "mimetype": "text/x-python",
   "name": "python",
   "nbconvert_exporter": "python",
   "pygments_lexer": "ipython3",
   "version": "3.11.4"
  },
  "orig_nbformat": 4
 },
 "nbformat": 4,
 "nbformat_minor": 2
}
